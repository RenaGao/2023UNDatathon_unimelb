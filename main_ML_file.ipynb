{
 "cells": [
  {
   "cell_type": "code",
   "execution_count": 96,
   "metadata": {},
   "outputs": [],
   "source": [
    "import pandas as pd\n",
    "import numpy as np\n",
    "import random\n",
    "import matplotlib.pyplot as plt\n",
    "import seaborn as sns\n",
    "\n",
    "from sklearn.linear_model import LinearRegression, RidgeCV\n",
    "from sklearn.ensemble import RandomForestRegressor, GradientBoostingRegressor\n",
    "\n",
    "from sklearn.preprocessing import StandardScaler\n",
    "from sklearn.model_selection import GridSearchCV\n",
    "from sklearn.model_selection import train_test_split, cross_val_score, validation_curve, learning_curve\n",
    "from sklearn.metrics import mean_squared_error, mean_absolute_percentage_error\n",
    "from sklearn.pipeline import make_pipeline"
   ]
  },
  {
   "cell_type": "code",
   "execution_count": 2,
   "metadata": {},
   "outputs": [],
   "source": [
    "my_df = pd.read_csv(\"arab-subset2.csv\")"
   ]
  },
  {
   "cell_type": "code",
   "execution_count": 3,
   "metadata": {},
   "outputs": [],
   "source": [
    "my_df.drop(columns=[\"Country Name\", \"Country Code\", \"Total valid data\", \"Series Name\"], inplace= True)"
   ]
  },
  {
   "cell_type": "code",
   "execution_count": 4,
   "metadata": {},
   "outputs": [
    {
     "data": {
      "text/html": [
       "<div>\n",
       "<style scoped>\n",
       "    .dataframe tbody tr th:only-of-type {\n",
       "        vertical-align: middle;\n",
       "    }\n",
       "\n",
       "    .dataframe tbody tr th {\n",
       "        vertical-align: top;\n",
       "    }\n",
       "\n",
       "    .dataframe thead th {\n",
       "        text-align: right;\n",
       "    }\n",
       "</style>\n",
       "<table border=\"1\" class=\"dataframe\">\n",
       "  <thead>\n",
       "    <tr style=\"text-align: right;\">\n",
       "      <th></th>\n",
       "      <th>Series Code</th>\n",
       "      <th>2000 [YR2000]</th>\n",
       "      <th>2001 [YR2001]</th>\n",
       "      <th>2002 [YR2002]</th>\n",
       "      <th>2003 [YR2003]</th>\n",
       "      <th>2004 [YR2004]</th>\n",
       "      <th>2005 [YR2005]</th>\n",
       "      <th>2006 [YR2006]</th>\n",
       "      <th>2007 [YR2007]</th>\n",
       "      <th>2008 [YR2008]</th>\n",
       "      <th>...</th>\n",
       "      <th>2011 [YR2011]</th>\n",
       "      <th>2012 [YR2012]</th>\n",
       "      <th>2013 [YR2013]</th>\n",
       "      <th>2014 [YR2014]</th>\n",
       "      <th>2015 [YR2015]</th>\n",
       "      <th>2016 [YR2016]</th>\n",
       "      <th>2017 [YR2017]</th>\n",
       "      <th>2018 [YR2018]</th>\n",
       "      <th>2019 [YR2019]</th>\n",
       "      <th>2020 [YR2020]</th>\n",
       "    </tr>\n",
       "  </thead>\n",
       "  <tbody>\n",
       "    <tr>\n",
       "      <th>0</th>\n",
       "      <td>EG.ELC.ACCS.ZS</td>\n",
       "      <td>80.736141</td>\n",
       "      <td>81.586231</td>\n",
       "      <td>81.540222</td>\n",
       "      <td>82.508159</td>\n",
       "      <td>82.503685</td>\n",
       "      <td>83.212982</td>\n",
       "      <td>85.459003</td>\n",
       "      <td>83.764440</td>\n",
       "      <td>83.386990</td>\n",
       "      <td>...</td>\n",
       "      <td>87.332661</td>\n",
       "      <td>87.039588</td>\n",
       "      <td>88.992620</td>\n",
       "      <td>88.015356</td>\n",
       "      <td>88.681886</td>\n",
       "      <td>89.195062</td>\n",
       "      <td>90.324659</td>\n",
       "      <td>88.910749</td>\n",
       "      <td>89.999946</td>\n",
       "      <td>90.277735</td>\n",
       "    </tr>\n",
       "    <tr>\n",
       "      <th>1</th>\n",
       "      <td>EG.ELC.ACCS.RU.ZS</td>\n",
       "      <td>68.173808</td>\n",
       "      <td>70.467440</td>\n",
       "      <td>70.028996</td>\n",
       "      <td>71.828643</td>\n",
       "      <td>68.204962</td>\n",
       "      <td>69.626669</td>\n",
       "      <td>73.452509</td>\n",
       "      <td>69.835346</td>\n",
       "      <td>69.623136</td>\n",
       "      <td>...</td>\n",
       "      <td>75.559816</td>\n",
       "      <td>75.377022</td>\n",
       "      <td>79.582622</td>\n",
       "      <td>77.666157</td>\n",
       "      <td>78.951592</td>\n",
       "      <td>79.791665</td>\n",
       "      <td>82.373066</td>\n",
       "      <td>82.970754</td>\n",
       "      <td>83.740500</td>\n",
       "      <td>81.660899</td>\n",
       "    </tr>\n",
       "    <tr>\n",
       "      <th>2</th>\n",
       "      <td>EG.ELC.ACCS.UR.ZS</td>\n",
       "      <td>94.862102</td>\n",
       "      <td>94.329788</td>\n",
       "      <td>94.329108</td>\n",
       "      <td>94.512786</td>\n",
       "      <td>94.615845</td>\n",
       "      <td>94.569273</td>\n",
       "      <td>95.335919</td>\n",
       "      <td>95.092511</td>\n",
       "      <td>94.387587</td>\n",
       "      <td>...</td>\n",
       "      <td>96.999402</td>\n",
       "      <td>96.980079</td>\n",
       "      <td>97.239057</td>\n",
       "      <td>96.856101</td>\n",
       "      <td>97.021313</td>\n",
       "      <td>97.261799</td>\n",
       "      <td>97.483658</td>\n",
       "      <td>97.581237</td>\n",
       "      <td>98.278287</td>\n",
       "      <td>97.540397</td>\n",
       "    </tr>\n",
       "    <tr>\n",
       "      <th>3</th>\n",
       "      <td>SP.ADO.TFRT</td>\n",
       "      <td>54.346048</td>\n",
       "      <td>53.309405</td>\n",
       "      <td>52.297739</td>\n",
       "      <td>51.897824</td>\n",
       "      <td>51.538385</td>\n",
       "      <td>51.212964</td>\n",
       "      <td>50.839602</td>\n",
       "      <td>50.519536</td>\n",
       "      <td>50.305291</td>\n",
       "      <td>...</td>\n",
       "      <td>49.866968</td>\n",
       "      <td>49.791067</td>\n",
       "      <td>49.345359</td>\n",
       "      <td>48.853998</td>\n",
       "      <td>48.279738</td>\n",
       "      <td>47.504739</td>\n",
       "      <td>46.687119</td>\n",
       "      <td>46.002723</td>\n",
       "      <td>45.245369</td>\n",
       "      <td>44.406611</td>\n",
       "    </tr>\n",
       "    <tr>\n",
       "      <th>4</th>\n",
       "      <td>SE.SEC.UNER.LO.ZS</td>\n",
       "      <td>27.792021</td>\n",
       "      <td>27.007050</td>\n",
       "      <td>25.998020</td>\n",
       "      <td>25.078751</td>\n",
       "      <td>24.007771</td>\n",
       "      <td>22.989800</td>\n",
       "      <td>22.770361</td>\n",
       "      <td>22.480301</td>\n",
       "      <td>21.773720</td>\n",
       "      <td>...</td>\n",
       "      <td>20.335569</td>\n",
       "      <td>19.065210</td>\n",
       "      <td>21.608210</td>\n",
       "      <td>20.438419</td>\n",
       "      <td>19.498341</td>\n",
       "      <td>18.654560</td>\n",
       "      <td>18.455170</td>\n",
       "      <td>17.220699</td>\n",
       "      <td>16.369221</td>\n",
       "      <td>16.837469</td>\n",
       "    </tr>\n",
       "  </tbody>\n",
       "</table>\n",
       "<p>5 rows × 22 columns</p>\n",
       "</div>"
      ],
      "text/plain": [
       "         Series Code  2000 [YR2000]  2001 [YR2001]  2002 [YR2002]  \\\n",
       "0     EG.ELC.ACCS.ZS      80.736141      81.586231      81.540222   \n",
       "1  EG.ELC.ACCS.RU.ZS      68.173808      70.467440      70.028996   \n",
       "2  EG.ELC.ACCS.UR.ZS      94.862102      94.329788      94.329108   \n",
       "3        SP.ADO.TFRT      54.346048      53.309405      52.297739   \n",
       "4  SE.SEC.UNER.LO.ZS      27.792021      27.007050      25.998020   \n",
       "\n",
       "   2003 [YR2003]  2004 [YR2004]  2005 [YR2005]  2006 [YR2006]  2007 [YR2007]  \\\n",
       "0      82.508159      82.503685      83.212982      85.459003      83.764440   \n",
       "1      71.828643      68.204962      69.626669      73.452509      69.835346   \n",
       "2      94.512786      94.615845      94.569273      95.335919      95.092511   \n",
       "3      51.897824      51.538385      51.212964      50.839602      50.519536   \n",
       "4      25.078751      24.007771      22.989800      22.770361      22.480301   \n",
       "\n",
       "   2008 [YR2008]  ...  2011 [YR2011]  2012 [YR2012]  2013 [YR2013]  \\\n",
       "0      83.386990  ...      87.332661      87.039588      88.992620   \n",
       "1      69.623136  ...      75.559816      75.377022      79.582622   \n",
       "2      94.387587  ...      96.999402      96.980079      97.239057   \n",
       "3      50.305291  ...      49.866968      49.791067      49.345359   \n",
       "4      21.773720  ...      20.335569      19.065210      21.608210   \n",
       "\n",
       "   2014 [YR2014]  2015 [YR2015]  2016 [YR2016]  2017 [YR2017]  2018 [YR2018]  \\\n",
       "0      88.015356      88.681886      89.195062      90.324659      88.910749   \n",
       "1      77.666157      78.951592      79.791665      82.373066      82.970754   \n",
       "2      96.856101      97.021313      97.261799      97.483658      97.581237   \n",
       "3      48.853998      48.279738      47.504739      46.687119      46.002723   \n",
       "4      20.438419      19.498341      18.654560      18.455170      17.220699   \n",
       "\n",
       "   2019 [YR2019]  2020 [YR2020]  \n",
       "0      89.999946      90.277735  \n",
       "1      83.740500      81.660899  \n",
       "2      98.278287      97.540397  \n",
       "3      45.245369      44.406611  \n",
       "4      16.369221      16.837469  \n",
       "\n",
       "[5 rows x 22 columns]"
      ]
     },
     "execution_count": 4,
     "metadata": {},
     "output_type": "execute_result"
    }
   ],
   "source": [
    "my_df.head()"
   ]
  },
  {
   "cell_type": "code",
   "execution_count": 5,
   "metadata": {},
   "outputs": [
    {
     "data": {
      "text/plain": [
       "Index(['Series Code', '2000 [YR2000]', '2001 [YR2001]', '2002 [YR2002]',\n",
       "       '2003 [YR2003]', '2004 [YR2004]', '2005 [YR2005]', '2006 [YR2006]',\n",
       "       '2007 [YR2007]', '2008 [YR2008]', '2009 [YR2009]', '2010 [YR2010]',\n",
       "       '2011 [YR2011]', '2012 [YR2012]', '2013 [YR2013]', '2014 [YR2014]',\n",
       "       '2015 [YR2015]', '2016 [YR2016]', '2017 [YR2017]', '2018 [YR2018]',\n",
       "       '2019 [YR2019]', '2020 [YR2020]'],\n",
       "      dtype='object')"
      ]
     },
     "execution_count": 5,
     "metadata": {},
     "output_type": "execute_result"
    }
   ],
   "source": [
    "my_df.columns"
   ]
  },
  {
   "cell_type": "code",
   "execution_count": 6,
   "metadata": {},
   "outputs": [
    {
     "name": "stdout",
     "output_type": "stream",
     "text": [
      "SE.PRM.CMPT.FE.ZS\n",
      "SE.PRM.CMPT.MA.ZS\n",
      "SE.PRM.CMPT.ZS\n"
     ]
    }
   ],
   "source": [
    "for ele in my_df[\"Series Code\"]:\n",
    "    if \"SE.PRM.CMPT\" in ele:\n",
    "        print(ele)"
   ]
  },
  {
   "cell_type": "code",
   "execution_count": 7,
   "metadata": {},
   "outputs": [
    {
     "data": {
      "text/html": [
       "<div>\n",
       "<style scoped>\n",
       "    .dataframe tbody tr th:only-of-type {\n",
       "        vertical-align: middle;\n",
       "    }\n",
       "\n",
       "    .dataframe tbody tr th {\n",
       "        vertical-align: top;\n",
       "    }\n",
       "\n",
       "    .dataframe thead th {\n",
       "        text-align: right;\n",
       "    }\n",
       "</style>\n",
       "<table border=\"1\" class=\"dataframe\">\n",
       "  <thead>\n",
       "    <tr style=\"text-align: right;\">\n",
       "      <th></th>\n",
       "      <th>0</th>\n",
       "      <th>1</th>\n",
       "      <th>2</th>\n",
       "      <th>3</th>\n",
       "      <th>4</th>\n",
       "      <th>5</th>\n",
       "      <th>6</th>\n",
       "      <th>7</th>\n",
       "      <th>8</th>\n",
       "      <th>9</th>\n",
       "      <th>...</th>\n",
       "      <th>76</th>\n",
       "      <th>77</th>\n",
       "      <th>78</th>\n",
       "      <th>79</th>\n",
       "      <th>80</th>\n",
       "      <th>81</th>\n",
       "      <th>82</th>\n",
       "      <th>83</th>\n",
       "      <th>84</th>\n",
       "      <th>85</th>\n",
       "    </tr>\n",
       "  </thead>\n",
       "  <tbody>\n",
       "    <tr>\n",
       "      <th>Series Code</th>\n",
       "      <td>EG.ELC.ACCS.ZS</td>\n",
       "      <td>EG.ELC.ACCS.RU.ZS</td>\n",
       "      <td>EG.ELC.ACCS.UR.ZS</td>\n",
       "      <td>SP.ADO.TFRT</td>\n",
       "      <td>SE.SEC.UNER.LO.ZS</td>\n",
       "      <td>SE.SEC.UNER.LO.FE.ZS</td>\n",
       "      <td>SE.SEC.UNER.LO.MA.ZS</td>\n",
       "      <td>SE.PRM.UNER.ZS</td>\n",
       "      <td>SE.PRM.UNER.FE.ZS</td>\n",
       "      <td>SE.PRM.UNER.MA.ZS</td>\n",
       "      <td>...</td>\n",
       "      <td>SL.UEM.TOTL.ZS</td>\n",
       "      <td>SL.UEM.1524.FE.ZS</td>\n",
       "      <td>SL.UEM.1524.MA.ZS</td>\n",
       "      <td>SL.UEM.1524.ZS</td>\n",
       "      <td>SP.URB.TOTL</td>\n",
       "      <td>SP.URB.TOTL.IN.ZS</td>\n",
       "      <td>SP.URB.GROW</td>\n",
       "      <td>SL.EMP.WORK.FE.ZS</td>\n",
       "      <td>SL.EMP.WORK.MA.ZS</td>\n",
       "      <td>SL.EMP.WORK.ZS</td>\n",
       "    </tr>\n",
       "    <tr>\n",
       "      <th>2000 [YR2000]</th>\n",
       "      <td>80.736141</td>\n",
       "      <td>68.173808</td>\n",
       "      <td>94.862102</td>\n",
       "      <td>54.346048</td>\n",
       "      <td>27.792021</td>\n",
       "      <td>33.825661</td>\n",
       "      <td>21.99515</td>\n",
       "      <td>21.88201</td>\n",
       "      <td>26.21769</td>\n",
       "      <td>17.724979</td>\n",
       "      <td>...</td>\n",
       "      <td>12.596101</td>\n",
       "      <td>32.629731</td>\n",
       "      <td>23.999154</td>\n",
       "      <td>26.504638</td>\n",
       "      <td>149612191.0</td>\n",
       "      <td>52.989302</td>\n",
       "      <td>2.634076</td>\n",
       "      <td>51.974793</td>\n",
       "      <td>61.661003</td>\n",
       "      <td>59.762448</td>\n",
       "    </tr>\n",
       "    <tr>\n",
       "      <th>2001 [YR2001]</th>\n",
       "      <td>81.586231</td>\n",
       "      <td>70.46744</td>\n",
       "      <td>94.329788</td>\n",
       "      <td>53.309405</td>\n",
       "      <td>27.00705</td>\n",
       "      <td>32.677971</td>\n",
       "      <td>21.56945</td>\n",
       "      <td>20.748421</td>\n",
       "      <td>24.71862</td>\n",
       "      <td>16.945999</td>\n",
       "      <td>...</td>\n",
       "      <td>12.46938</td>\n",
       "      <td>33.293565</td>\n",
       "      <td>24.488499</td>\n",
       "      <td>27.012069</td>\n",
       "      <td>153594287.0</td>\n",
       "      <td>53.251444</td>\n",
       "      <td>2.661612</td>\n",
       "      <td>54.548243</td>\n",
       "      <td>61.748991</td>\n",
       "      <td>60.317576</td>\n",
       "    </tr>\n",
       "    <tr>\n",
       "      <th>2002 [YR2002]</th>\n",
       "      <td>81.540222</td>\n",
       "      <td>70.028996</td>\n",
       "      <td>94.329108</td>\n",
       "      <td>52.297739</td>\n",
       "      <td>25.99802</td>\n",
       "      <td>31.18034</td>\n",
       "      <td>21.026739</td>\n",
       "      <td>19.84693</td>\n",
       "      <td>23.46406</td>\n",
       "      <td>16.37816</td>\n",
       "      <td>...</td>\n",
       "      <td>12.465001</td>\n",
       "      <td>31.212226</td>\n",
       "      <td>24.774243</td>\n",
       "      <td>26.684724</td>\n",
       "      <td>157691929.0</td>\n",
       "      <td>53.515626</td>\n",
       "      <td>2.667835</td>\n",
       "      <td>55.887452</td>\n",
       "      <td>61.240623</td>\n",
       "      <td>60.205566</td>\n",
       "    </tr>\n",
       "    <tr>\n",
       "      <th>2003 [YR2003]</th>\n",
       "      <td>82.508159</td>\n",
       "      <td>71.828643</td>\n",
       "      <td>94.512786</td>\n",
       "      <td>51.897824</td>\n",
       "      <td>25.078751</td>\n",
       "      <td>29.772619</td>\n",
       "      <td>20.576309</td>\n",
       "      <td>19.278419</td>\n",
       "      <td>22.62163</td>\n",
       "      <td>16.071079</td>\n",
       "      <td>...</td>\n",
       "      <td>12.390521</td>\n",
       "      <td>31.84997</td>\n",
       "      <td>25.372652</td>\n",
       "      <td>27.221143</td>\n",
       "      <td>162002776.0</td>\n",
       "      <td>53.801167</td>\n",
       "      <td>2.733714</td>\n",
       "      <td>54.191779</td>\n",
       "      <td>61.344739</td>\n",
       "      <td>59.945188</td>\n",
       "    </tr>\n",
       "  </tbody>\n",
       "</table>\n",
       "<p>5 rows × 86 columns</p>\n",
       "</div>"
      ],
      "text/plain": [
       "                           0                  1                  2   \\\n",
       "Series Code    EG.ELC.ACCS.ZS  EG.ELC.ACCS.RU.ZS  EG.ELC.ACCS.UR.ZS   \n",
       "2000 [YR2000]       80.736141          68.173808          94.862102   \n",
       "2001 [YR2001]       81.586231           70.46744          94.329788   \n",
       "2002 [YR2002]       81.540222          70.028996          94.329108   \n",
       "2003 [YR2003]       82.508159          71.828643          94.512786   \n",
       "\n",
       "                        3                  4                     5   \\\n",
       "Series Code    SP.ADO.TFRT  SE.SEC.UNER.LO.ZS  SE.SEC.UNER.LO.FE.ZS   \n",
       "2000 [YR2000]    54.346048          27.792021             33.825661   \n",
       "2001 [YR2001]    53.309405           27.00705             32.677971   \n",
       "2002 [YR2002]    52.297739           25.99802              31.18034   \n",
       "2003 [YR2003]    51.897824          25.078751             29.772619   \n",
       "\n",
       "                                 6               7                  8   \\\n",
       "Series Code    SE.SEC.UNER.LO.MA.ZS  SE.PRM.UNER.ZS  SE.PRM.UNER.FE.ZS   \n",
       "2000 [YR2000]              21.99515        21.88201           26.21769   \n",
       "2001 [YR2001]              21.56945       20.748421           24.71862   \n",
       "2002 [YR2002]             21.026739        19.84693           23.46406   \n",
       "2003 [YR2003]             20.576309       19.278419           22.62163   \n",
       "\n",
       "                              9   ...              76                 77  \\\n",
       "Series Code    SE.PRM.UNER.MA.ZS  ...  SL.UEM.TOTL.ZS  SL.UEM.1524.FE.ZS   \n",
       "2000 [YR2000]          17.724979  ...       12.596101          32.629731   \n",
       "2001 [YR2001]          16.945999  ...        12.46938          33.293565   \n",
       "2002 [YR2002]           16.37816  ...       12.465001          31.212226   \n",
       "2003 [YR2003]          16.071079  ...       12.390521           31.84997   \n",
       "\n",
       "                              78              79           80  \\\n",
       "Series Code    SL.UEM.1524.MA.ZS  SL.UEM.1524.ZS  SP.URB.TOTL   \n",
       "2000 [YR2000]          23.999154       26.504638  149612191.0   \n",
       "2001 [YR2001]          24.488499       27.012069  153594287.0   \n",
       "2002 [YR2002]          24.774243       26.684724  157691929.0   \n",
       "2003 [YR2003]          25.372652       27.221143  162002776.0   \n",
       "\n",
       "                              81           82                 83  \\\n",
       "Series Code    SP.URB.TOTL.IN.ZS  SP.URB.GROW  SL.EMP.WORK.FE.ZS   \n",
       "2000 [YR2000]          52.989302     2.634076          51.974793   \n",
       "2001 [YR2001]          53.251444     2.661612          54.548243   \n",
       "2002 [YR2002]          53.515626     2.667835          55.887452   \n",
       "2003 [YR2003]          53.801167     2.733714          54.191779   \n",
       "\n",
       "                              84              85  \n",
       "Series Code    SL.EMP.WORK.MA.ZS  SL.EMP.WORK.ZS  \n",
       "2000 [YR2000]          61.661003       59.762448  \n",
       "2001 [YR2001]          61.748991       60.317576  \n",
       "2002 [YR2002]          61.240623       60.205566  \n",
       "2003 [YR2003]          61.344739       59.945188  \n",
       "\n",
       "[5 rows x 86 columns]"
      ]
     },
     "execution_count": 7,
     "metadata": {},
     "output_type": "execute_result"
    }
   ],
   "source": [
    "df_tp = my_df.T\n",
    "df_tp.head()"
   ]
  },
  {
   "cell_type": "code",
   "execution_count": 8,
   "metadata": {},
   "outputs": [],
   "source": [
    "# Set first row as column\n",
    "new_header = df_tp.iloc[0]\n",
    "df_tp = df_tp[1:]\n",
    "df_tp.columns = new_header"
   ]
  },
  {
   "cell_type": "code",
   "execution_count": 9,
   "metadata": {},
   "outputs": [],
   "source": [
    "\"\"\"\n",
    "Target variable is primary completion rate for all (girls and boys)\n",
    "\"\"\"\n",
    "\n",
    "X = df_tp.drop(columns=[\"SE.PRM.CMPT.FE.ZS\", \"SE.PRM.CMPT.MA.ZS\", \"SE.PRM.CMPT.ZS\"])\n",
    "y = df_tp[\"SE.PRM.CMPT.ZS\"]\n",
    "\n",
    "# data split before any model fitting to avoid data leakage\n",
    "my_seed = 1322878\n",
    "X_train, X_test, y_train, y_test = train_test_split(X, y, test_size=0.2, random_state=my_seed)"
   ]
  },
  {
   "cell_type": "code",
   "execution_count": 10,
   "metadata": {},
   "outputs": [],
   "source": [
    "# standardize data \n",
    "sc = StandardScaler()\n",
    "sc.fit(X_train)\n",
    "X_train_std = sc.transform(X_train)\n",
    "X_test_std = sc.transform(X_test)"
   ]
  },
  {
   "cell_type": "code",
   "execution_count": 11,
   "metadata": {},
   "outputs": [
    {
     "data": {
      "text/plain": [
       "1.4794537983909426"
      ]
     },
     "execution_count": 11,
     "metadata": {},
     "output_type": "execute_result"
    }
   ],
   "source": [
    "# base model - linear regression\n",
    "lr = LinearRegression().fit(X_train_std, y_train)\n",
    "y_pred_lr = lr.predict(X_test_std)\n",
    "\n",
    "mean_squared_error(y_pred_lr, y_test)"
   ]
  },
  {
   "cell_type": "code",
   "execution_count": 97,
   "metadata": {},
   "outputs": [
    {
     "name": "stdout",
     "output_type": "stream",
     "text": [
      "1.1338601789059572\n",
      "0.0108014882090561\n"
     ]
    }
   ],
   "source": [
    "# Ridge regression\n",
    "\n",
    "rr = RidgeCV(alphas=[1e-3, 1e-2, 1e-1, 1],store_cv_values=True).fit(X_train_std, y_train)\n",
    "y_pred_rr = rr.predict(X_test_std)\n",
    "\n",
    "print(mean_squared_error(y_pred_rr,y_test))\n",
    "print(mean_absolute_percentage_error(y_pred_rr, y_test))\n"
   ]
  },
  {
   "cell_type": "code",
   "execution_count": 13,
   "metadata": {},
   "outputs": [
    {
     "data": {
      "text/plain": [
       "1.0"
      ]
     },
     "execution_count": 13,
     "metadata": {},
     "output_type": "execute_result"
    }
   ],
   "source": [
    "rr.alpha_ # best alpha value"
   ]
  },
  {
   "cell_type": "code",
   "execution_count": 14,
   "metadata": {},
   "outputs": [],
   "source": [
    "feature_names = X_train.columns\n",
    "coefficients = rr.coef_\n",
    "feature_coefficients = pd.DataFrame(coefficients, index=feature_names, columns=['Coefficient'])\n"
   ]
  },
  {
   "cell_type": "code",
   "execution_count": 15,
   "metadata": {},
   "outputs": [
    {
     "data": {
      "text/html": [
       "<div>\n",
       "<style scoped>\n",
       "    .dataframe tbody tr th:only-of-type {\n",
       "        vertical-align: middle;\n",
       "    }\n",
       "\n",
       "    .dataframe tbody tr th {\n",
       "        vertical-align: top;\n",
       "    }\n",
       "\n",
       "    .dataframe thead th {\n",
       "        text-align: right;\n",
       "    }\n",
       "</style>\n",
       "<table border=\"1\" class=\"dataframe\">\n",
       "  <thead>\n",
       "    <tr style=\"text-align: right;\">\n",
       "      <th></th>\n",
       "      <th>Coefficient</th>\n",
       "    </tr>\n",
       "    <tr>\n",
       "      <th>Series Code</th>\n",
       "      <th></th>\n",
       "    </tr>\n",
       "  </thead>\n",
       "  <tbody>\n",
       "    <tr>\n",
       "      <th>SE.SEC.ENRL.LO.TC.ZS</th>\n",
       "      <td>-0.107978</td>\n",
       "    </tr>\n",
       "    <tr>\n",
       "      <th>SE.PRM.UNER.FE</th>\n",
       "      <td>-0.120714</td>\n",
       "    </tr>\n",
       "    <tr>\n",
       "      <th>EG.ELC.ACCS.RU.ZS</th>\n",
       "      <td>-0.121044</td>\n",
       "    </tr>\n",
       "    <tr>\n",
       "      <th>SE.PRM.UNER.FE.ZS</th>\n",
       "      <td>-0.123751</td>\n",
       "    </tr>\n",
       "    <tr>\n",
       "      <th>SG.GEN.PARL.ZS</th>\n",
       "      <td>-0.125391</td>\n",
       "    </tr>\n",
       "    <tr>\n",
       "      <th>SE.SEC.UNER.LO.ZS</th>\n",
       "      <td>-0.136657</td>\n",
       "    </tr>\n",
       "    <tr>\n",
       "      <th>SE.PRM.UNER</th>\n",
       "      <td>-0.148969</td>\n",
       "    </tr>\n",
       "    <tr>\n",
       "      <th>SE.PRM.UNER.ZS</th>\n",
       "      <td>-0.150567</td>\n",
       "    </tr>\n",
       "    <tr>\n",
       "      <th>SL.AGR.EMPL.FE.ZS</th>\n",
       "      <td>-0.169712</td>\n",
       "    </tr>\n",
       "    <tr>\n",
       "      <th>SE.PRM.UNER.MA</th>\n",
       "      <td>-0.170667</td>\n",
       "    </tr>\n",
       "    <tr>\n",
       "      <th>SH.DYN.AIDS.ZS</th>\n",
       "      <td>-0.174441</td>\n",
       "    </tr>\n",
       "    <tr>\n",
       "      <th>SL.UEM.1524.ZS</th>\n",
       "      <td>-0.190343</td>\n",
       "    </tr>\n",
       "    <tr>\n",
       "      <th>SL.UEM.1524.MA.ZS</th>\n",
       "      <td>-0.192799</td>\n",
       "    </tr>\n",
       "    <tr>\n",
       "      <th>SL.IND.EMPL.FE.ZS</th>\n",
       "      <td>-0.193968</td>\n",
       "    </tr>\n",
       "    <tr>\n",
       "      <th>SE.PRM.UNER.MA.ZS</th>\n",
       "      <td>-0.197814</td>\n",
       "    </tr>\n",
       "    <tr>\n",
       "      <th>SE.PRM.ENRL.TC.ZS</th>\n",
       "      <td>-0.217861</td>\n",
       "    </tr>\n",
       "    <tr>\n",
       "      <th>EG.ELC.ACCS.ZS</th>\n",
       "      <td>-0.236618</td>\n",
       "    </tr>\n",
       "    <tr>\n",
       "      <th>SE.SEC.UNER.LO.MA.ZS</th>\n",
       "      <td>-0.238313</td>\n",
       "    </tr>\n",
       "    <tr>\n",
       "      <th>SL.UEM.TOTL.FE.ZS</th>\n",
       "      <td>-0.308112</td>\n",
       "    </tr>\n",
       "    <tr>\n",
       "      <th>SE.PRE.ENRL.TC.ZS</th>\n",
       "      <td>-0.313857</td>\n",
       "    </tr>\n",
       "  </tbody>\n",
       "</table>\n",
       "</div>"
      ],
      "text/plain": [
       "                      Coefficient\n",
       "Series Code                      \n",
       "SE.SEC.ENRL.LO.TC.ZS    -0.107978\n",
       "SE.PRM.UNER.FE          -0.120714\n",
       "EG.ELC.ACCS.RU.ZS       -0.121044\n",
       "SE.PRM.UNER.FE.ZS       -0.123751\n",
       "SG.GEN.PARL.ZS          -0.125391\n",
       "SE.SEC.UNER.LO.ZS       -0.136657\n",
       "SE.PRM.UNER             -0.148969\n",
       "SE.PRM.UNER.ZS          -0.150567\n",
       "SL.AGR.EMPL.FE.ZS       -0.169712\n",
       "SE.PRM.UNER.MA          -0.170667\n",
       "SH.DYN.AIDS.ZS          -0.174441\n",
       "SL.UEM.1524.ZS          -0.190343\n",
       "SL.UEM.1524.MA.ZS       -0.192799\n",
       "SL.IND.EMPL.FE.ZS       -0.193968\n",
       "SE.PRM.UNER.MA.ZS       -0.197814\n",
       "SE.PRM.ENRL.TC.ZS       -0.217861\n",
       "EG.ELC.ACCS.ZS          -0.236618\n",
       "SE.SEC.UNER.LO.MA.ZS    -0.238313\n",
       "SL.UEM.TOTL.FE.ZS       -0.308112\n",
       "SE.PRE.ENRL.TC.ZS       -0.313857"
      ]
     },
     "execution_count": 15,
     "metadata": {},
     "output_type": "execute_result"
    }
   ],
   "source": [
    "feature_coefficients.sort_values(ascending=False, by=\"Coefficient\").tail(20)"
   ]
  },
  {
   "cell_type": "code",
   "execution_count": 16,
   "metadata": {},
   "outputs": [],
   "source": [
    "feature_coefficients[\"Coefficient\"] = abs(feature_coefficients[\"Coefficient\"])\n",
    "feature_coef_sort = feature_coefficients.sort_values(ascending=False, by=\"Coefficient\")"
   ]
  },
  {
   "cell_type": "code",
   "execution_count": 17,
   "metadata": {},
   "outputs": [
    {
     "data": {
      "image/png": "[encoded data removed]",
      "text/plain": [
       "<Figure size 2200x450 with 1 Axes>"
      ]
     },
     "metadata": {},
     "output_type": "display_data"
    }
   ],
   "source": [
    "# Plot 15 most imp features\n",
    "rr_feature_coef = feature_coef_sort[:15][\"Coefficient\"]\n",
    "rf_feature_coef_name = feature_coef_sort[:15].index\n",
    "\n",
    "plt.figure(figsize=(22, len(rf_feature_coef_name) * 0.3))  # Adjust the figure size\n",
    "plt.bar(rf_feature_coef_name, rr_feature_coef, align='center')\n",
    "plt.xlabel('Feature', fontsize=12)\n",
    "plt.ylabel('Feature Importance', fontsize=12)\n",
    "plt.title('Feature Coefficients by Ridge Regression (Absolute Value)', fontsize=16)\n",
    "\n",
    "# plt.yticks(fontsize=12)\n",
    "plt.xticks(fontsize=7)\n",
    "plt.show()"
   ]
  },
  {
   "cell_type": "code",
   "execution_count": 18,
   "metadata": {},
   "outputs": [
    {
     "data": {
      "text/plain": [
       "2.1216103039109973"
      ]
     },
     "execution_count": 18,
     "metadata": {},
     "output_type": "execute_result"
    }
   ],
   "source": [
    "# random forest\n",
    "rf = RandomForestRegressor(random_state=my_seed)\n",
    "rf.fit(X_train_std,y_train)\n",
    "\n",
    "y_pred_rf = rf.predict(X_test_std)\n",
    "mean_squared_error(y_pred_rf,y_test)"
   ]
  },
  {
   "cell_type": "code",
   "execution_count": 19,
   "metadata": {},
   "outputs": [
    {
     "data": {
      "text/plain": [
       "{'bootstrap': True,\n",
       " 'ccp_alpha': 0.0,\n",
       " 'criterion': 'squared_error',\n",
       " 'max_depth': None,\n",
       " 'max_features': 1.0,\n",
       " 'max_leaf_nodes': None,\n",
       " 'max_samples': None,\n",
       " 'min_impurity_decrease': 0.0,\n",
       " 'min_samples_leaf': 1,\n",
       " 'min_samples_split': 2,\n",
       " 'min_weight_fraction_leaf': 0.0,\n",
       " 'n_estimators': 100,\n",
       " 'n_jobs': None,\n",
       " 'oob_score': False,\n",
       " 'random_state': 1322878,\n",
       " 'verbose': 0,\n",
       " 'warm_start': False}"
      ]
     },
     "execution_count": 19,
     "metadata": {},
     "output_type": "execute_result"
    }
   ],
   "source": [
    "rf.get_params()"
   ]
  },
  {
   "cell_type": "code",
   "execution_count": 20,
   "metadata": {},
   "outputs": [
    {
     "name": "stdout",
     "output_type": "stream",
     "text": [
      "{'randomforestregressor__n_estimators': [200, 400, 600, 800, 1000, 1200], 'randomforestregressor__max_depth': [50, 60, 70, 80, 90, 100], 'randomforestregressor__min_samples_split': [2, 4, 6], 'randomforestregressor__min_samples_leaf': [1, 2, 4]}\n"
     ]
    }
   ],
   "source": [
    "# random forest CV\n",
    "\n",
    "param_grid_rf = {\n",
    "    'randomforestregressor__n_estimators': [int(x) for x in np.linspace(start = 200, stop = 1200, num = 6)],\n",
    "    'randomforestregressor__max_depth': [int(x) for x in np.linspace(50, 100, num = 6)],\n",
    "    'randomforestregressor__min_samples_split': [2,4,6],\n",
    "    'randomforestregressor__min_samples_leaf' : [1,2,4]\n",
    "}\n",
    "print(param_grid_rf)"
   ]
  },
  {
   "cell_type": "code",
   "execution_count": 21,
   "metadata": {},
   "outputs": [],
   "source": [
    "# create a pipeline for RF\n",
    "n_cpu=7\n",
    "pipe_rf = make_pipeline(StandardScaler(), RandomForestRegressor(random_state=my_seed,n_jobs=n_cpu))\n",
    "\n",
    "gs_rf = GridSearchCV(estimator=pipe_rf, param_grid=param_grid_rf, scoring = 'neg_mean_squared_error', cv=10, verbose=2, n_jobs=n_cpu)"
   ]
  },
  {
   "cell_type": "code",
   "execution_count": 22,
   "metadata": {},
   "outputs": [
    {
     "name": "stdout",
     "output_type": "stream",
     "text": [
      "Fitting 10 folds for each of 324 candidates, totalling 3240 fits\n"
     ]
    },
    {
     "data": {
      "text/html": [
       "<style>#sk-container-id-1 {color: black;}#sk-container-id-1 pre{padding: 0;}#sk-container-id-1 div.sk-toggleable {background-color: white;}#sk-container-id-1 label.sk-toggleable__label {cursor: pointer;display: block;width: 100%;margin-bottom: 0;padding: 0.3em;box-sizing: border-box;text-align: center;}#sk-container-id-1 label.sk-toggleable__label-arrow:before {content: \"▸\";float: left;margin-right: 0.25em;color: #696969;}#sk-container-id-1 label.sk-toggleable__label-arrow:hover:before {color: black;}#sk-container-id-1 div.sk-estimator:hover label.sk-toggleable__label-arrow:before {color: black;}#sk-container-id-1 div.sk-toggleable__content {max-height: 0;max-width: 0;overflow: hidden;text-align: left;background-color: #f0f8ff;}#sk-container-id-1 div.sk-toggleable__content pre {margin: 0.2em;color: black;border-radius: 0.25em;background-color: #f0f8ff;}#sk-container-id-1 input.sk-toggleable__control:checked~div.sk-toggleable__content {max-height: 200px;max-width: 100%;overflow: auto;}#sk-container-id-1 input.sk-toggleable__control:checked~label.sk-toggleable__label-arrow:before {content: \"▾\";}#sk-container-id-1 div.sk-estimator input.sk-toggleable__control:checked~label.sk-toggleable__label {background-color: #d4ebff;}#sk-container-id-1 div.sk-label input.sk-toggleable__control:checked~label.sk-toggleable__label {background-color: #d4ebff;}#sk-container-id-1 input.sk-hidden--visually {border: 0;clip: rect(1px 1px 1px 1px);clip: rect(1px, 1px, 1px, 1px);height: 1px;margin: -1px;overflow: hidden;padding: 0;position: absolute;width: 1px;}#sk-container-id-1 div.sk-estimator {font-family: monospace;background-color: #f0f8ff;border: 1px dotted black;border-radius: 0.25em;box-sizing: border-box;margin-bottom: 0.5em;}#sk-container-id-1 div.sk-estimator:hover {background-color: #d4ebff;}#sk-container-id-1 div.sk-parallel-item::after {content: \"\";width: 100%;border-bottom: 1px solid gray;flex-grow: 1;}#sk-container-id-1 div.sk-label:hover label.sk-toggleable__label {background-color: #d4ebff;}#sk-container-id-1 div.sk-serial::before {content: \"\";position: absolute;border-left: 1px solid gray;box-sizing: border-box;top: 0;bottom: 0;left: 50%;z-index: 0;}#sk-container-id-1 div.sk-serial {display: flex;flex-direction: column;align-items: center;background-color: white;padding-right: 0.2em;padding-left: 0.2em;position: relative;}#sk-container-id-1 div.sk-item {position: relative;z-index: 1;}#sk-container-id-1 div.sk-parallel {display: flex;align-items: stretch;justify-content: center;background-color: white;position: relative;}#sk-container-id-1 div.sk-item::before, #sk-container-id-1 div.sk-parallel-item::before {content: \"\";position: absolute;border-left: 1px solid gray;box-sizing: border-box;top: 0;bottom: 0;left: 50%;z-index: -1;}#sk-container-id-1 div.sk-parallel-item {display: flex;flex-direction: column;z-index: 1;position: relative;background-color: white;}#sk-container-id-1 div.sk-parallel-item:first-child::after {align-self: flex-end;width: 50%;}#sk-container-id-1 div.sk-parallel-item:last-child::after {align-self: flex-start;width: 50%;}#sk-container-id-1 div.sk-parallel-item:only-child::after {width: 0;}#sk-container-id-1 div.sk-dashed-wrapped {border: 1px dashed gray;margin: 0 0.4em 0.5em 0.4em;box-sizing: border-box;padding-bottom: 0.4em;background-color: white;}#sk-container-id-1 div.sk-label label {font-family: monospace;font-weight: bold;display: inline-block;line-height: 1.2em;}#sk-container-id-1 div.sk-label-container {text-align: center;}#sk-container-id-1 div.sk-container {/* jupyter's `normalize.less` sets `[hidden] { display: none; }` but bootstrap.min.css set `[hidden] { display: none !important; }` so we also need the `!important` here to be able to override the default hidden behavior on the sphinx rendered scikit-learn.org. See: https://github.com/scikit-learn/scikit-learn/issues/21755 */display: inline-block !important;position: relative;}#sk-container-id-1 div.sk-text-repr-fallback {display: none;}</style><div id=\"sk-container-id-1\" class=\"sk-top-container\"><div class=\"sk-text-repr-fallback\"><pre>GridSearchCV(cv=10,\n",
       "             estimator=Pipeline(steps=[(&#x27;standardscaler&#x27;, StandardScaler()),\n",
       "                                       (&#x27;randomforestregressor&#x27;,\n",
       "                                        RandomForestRegressor(n_jobs=7,\n",
       "                                                              random_state=1322878))]),\n",
       "             n_jobs=7,\n",
       "             param_grid={&#x27;randomforestregressor__max_depth&#x27;: [50, 60, 70, 80,\n",
       "                                                              90, 100],\n",
       "                         &#x27;randomforestregressor__min_samples_leaf&#x27;: [1, 2, 4],\n",
       "                         &#x27;randomforestregressor__min_samples_split&#x27;: [2, 4, 6],\n",
       "                         &#x27;randomforestregressor__n_estimators&#x27;: [200, 400, 600,\n",
       "                                                                 800, 1000,\n",
       "                                                                 1200]},\n",
       "             scoring=&#x27;neg_mean_squared_error&#x27;, verbose=2)</pre><b>In a Jupyter environment, please rerun this cell to show the HTML representation or trust the notebook. <br />On GitHub, the HTML representation is unable to render, please try loading this page with nbviewer.org.</b></div><div class=\"sk-container\" hidden><div class=\"sk-item sk-dashed-wrapped\"><div class=\"sk-label-container\"><div class=\"sk-label sk-toggleable\"><input class=\"sk-toggleable__control sk-hidden--visually\" id=\"sk-estimator-id-1\" type=\"checkbox\" ><label for=\"sk-estimator-id-1\" class=\"sk-toggleable__label sk-toggleable__label-arrow\">GridSearchCV</label><div class=\"sk-toggleable__content\"><pre>GridSearchCV(cv=10,\n",
       "             estimator=Pipeline(steps=[(&#x27;standardscaler&#x27;, StandardScaler()),\n",
       "                                       (&#x27;randomforestregressor&#x27;,\n",
       "                                        RandomForestRegressor(n_jobs=7,\n",
       "                                                              random_state=1322878))]),\n",
       "             n_jobs=7,\n",
       "             param_grid={&#x27;randomforestregressor__max_depth&#x27;: [50, 60, 70, 80,\n",
       "                                                              90, 100],\n",
       "                         &#x27;randomforestregressor__min_samples_leaf&#x27;: [1, 2, 4],\n",
       "                         &#x27;randomforestregressor__min_samples_split&#x27;: [2, 4, 6],\n",
       "                         &#x27;randomforestregressor__n_estimators&#x27;: [200, 400, 600,\n",
       "                                                                 800, 1000,\n",
       "                                                                 1200]},\n",
       "             scoring=&#x27;neg_mean_squared_error&#x27;, verbose=2)</pre></div></div></div><div class=\"sk-parallel\"><div class=\"sk-parallel-item\"><div class=\"sk-item\"><div class=\"sk-label-container\"><div class=\"sk-label sk-toggleable\"><input class=\"sk-toggleable__control sk-hidden--visually\" id=\"sk-estimator-id-2\" type=\"checkbox\" ><label for=\"sk-estimator-id-2\" class=\"sk-toggleable__label sk-toggleable__label-arrow\">estimator: Pipeline</label><div class=\"sk-toggleable__content\"><pre>Pipeline(steps=[(&#x27;standardscaler&#x27;, StandardScaler()),\n",
       "                (&#x27;randomforestregressor&#x27;,\n",
       "                 RandomForestRegressor(n_jobs=7, random_state=1322878))])</pre></div></div></div><div class=\"sk-serial\"><div class=\"sk-item\"><div class=\"sk-serial\"><div class=\"sk-item\"><div class=\"sk-estimator sk-toggleable\"><input class=\"sk-toggleable__control sk-hidden--visually\" id=\"sk-estimator-id-3\" type=\"checkbox\" ><label for=\"sk-estimator-id-3\" class=\"sk-toggleable__label sk-toggleable__label-arrow\">StandardScaler</label><div class=\"sk-toggleable__content\"><pre>StandardScaler()</pre></div></div></div><div class=\"sk-item\"><div class=\"sk-estimator sk-toggleable\"><input class=\"sk-toggleable__control sk-hidden--visually\" id=\"sk-estimator-id-4\" type=\"checkbox\" ><label for=\"sk-estimator-id-4\" class=\"sk-toggleable__label sk-toggleable__label-arrow\">RandomForestRegressor</label><div class=\"sk-toggleable__content\"><pre>RandomForestRegressor(n_jobs=7, random_state=1322878)</pre></div></div></div></div></div></div></div></div></div></div></div></div>"
      ],
      "text/plain": [
       "GridSearchCV(cv=10,\n",
       "             estimator=Pipeline(steps=[('standardscaler', StandardScaler()),\n",
       "                                       ('randomforestregressor',\n",
       "                                        RandomForestRegressor(n_jobs=7,\n",
       "                                                              random_state=1322878))]),\n",
       "             n_jobs=7,\n",
       "             param_grid={'randomforestregressor__max_depth': [50, 60, 70, 80,\n",
       "                                                              90, 100],\n",
       "                         'randomforestregressor__min_samples_leaf': [1, 2, 4],\n",
       "                         'randomforestregressor__min_samples_split': [2, 4, 6],\n",
       "                         'randomforestregressor__n_estimators': [200, 400, 600,\n",
       "                                                                 800, 1000,\n",
       "                                                                 1200]},\n",
       "             scoring='neg_mean_squared_error', verbose=2)"
      ]
     },
     "execution_count": 22,
     "metadata": {},
     "output_type": "execute_result"
    }
   ],
   "source": [
    "gs_rf.fit(X_train, y_train)"
   ]
  },
  {
   "cell_type": "code",
   "execution_count": 23,
   "metadata": {},
   "outputs": [
    {
     "name": "stdout",
     "output_type": "stream",
     "text": [
      "{'randomforestregressor__max_depth': 70, 'randomforestregressor__min_samples_leaf': 1, 'randomforestregressor__min_samples_split': 2, 'randomforestregressor__n_estimators': 1200}\n"
     ]
    },
    {
     "data": {
      "text/plain": [
       "-1.9403959779891813"
      ]
     },
     "execution_count": 23,
     "metadata": {},
     "output_type": "execute_result"
    }
   ],
   "source": [
    "print(gs_rf.best_params_)\n",
    "gs_rf.best_score_"
   ]
  },
  {
   "cell_type": "code",
   "execution_count": 98,
   "metadata": {},
   "outputs": [
    {
     "name": "stdout",
     "output_type": "stream",
     "text": [
      "1.8645647772827403\n",
      "0.013904040470453636\n"
     ]
    }
   ],
   "source": [
    "# random forest\n",
    "rf2 = RandomForestRegressor(random_state=my_seed, max_depth=60, min_samples_leaf=1, min_samples_split=2,n_estimators=1200)\n",
    "rf2.fit(X_train_std,y_train)\n",
    "\n",
    "y_pred_rf2 = rf2.predict(X_test_std)\n",
    "print(mean_squared_error(y_pred_rf2,y_test))\n",
    "print(mean_absolute_percentage_error(y_pred_rf2, y_test))"
   ]
  },
  {
   "cell_type": "code",
   "execution_count": 25,
   "metadata": {},
   "outputs": [
    {
     "data": {
      "image/png": "[encoded data removed]",
      "text/plain": [
       "<Figure size 2200x450 with 1 Axes>"
      ]
     },
     "metadata": {},
     "output_type": "display_data"
    }
   ],
   "source": [
    "# feature importance for RF\n",
    "rf_feature_imps = sorted(zip(rf2.feature_importances_, feature_names), reverse=True)  # Sort by imp value\n",
    "\n",
    "# Plot 15 most imp features\n",
    "rf_feature_imps_val = [item[0] for item in rf_feature_imps[:15]]\n",
    "rf_feature_imps_name = [item[1] for item in rf_feature_imps[:15]]\n",
    "\n",
    "plt.figure(figsize=(22, len(rf_feature_imps_name) * 0.3))  # Adjust the figure size\n",
    "plt.bar(rf_feature_imps_name, rf_feature_imps_val, align='center')\n",
    "plt.xlabel('Feature', fontsize=16)\n",
    "plt.ylabel('Feature Importance', fontsize=16)\n",
    "plt.title('Feature Importance for Random Forest Algorithm', fontsize=16)\n",
    "\n",
    "plt.yticks(fontsize=8)\n",
    "plt.xticks(fontsize=7)\n",
    "plt.show()"
   ]
  },
  {
   "cell_type": "code",
   "execution_count": 76,
   "metadata": {},
   "outputs": [
    {
     "data": {
      "text/plain": [
       "2.242969604077191"
      ]
     },
     "execution_count": 76,
     "metadata": {},
     "output_type": "execute_result"
    }
   ],
   "source": [
    "# Try gradient boosting\n",
    "\n",
    "gbr = GradientBoostingRegressor(random_state=my_seed)\n",
    "gbr.fit(X_train_std,y_train)\n",
    "\n",
    "y_pred_gbr = gbr.predict(X_test_std)\n",
    "mean_squared_error(y_pred_gbr,y_test)"
   ]
  },
  {
   "cell_type": "code",
   "execution_count": 77,
   "metadata": {},
   "outputs": [
    {
     "data": {
      "text/plain": [
       "{'alpha': 0.9,\n",
       " 'ccp_alpha': 0.0,\n",
       " 'criterion': 'friedman_mse',\n",
       " 'init': None,\n",
       " 'learning_rate': 0.1,\n",
       " 'loss': 'squared_error',\n",
       " 'max_depth': 3,\n",
       " 'max_features': None,\n",
       " 'max_leaf_nodes': None,\n",
       " 'min_impurity_decrease': 0.0,\n",
       " 'min_samples_leaf': 1,\n",
       " 'min_samples_split': 2,\n",
       " 'min_weight_fraction_leaf': 0.0,\n",
       " 'n_estimators': 100,\n",
       " 'n_iter_no_change': None,\n",
       " 'random_state': 1322878,\n",
       " 'subsample': 1.0,\n",
       " 'tol': 0.0001,\n",
       " 'validation_fraction': 0.1,\n",
       " 'verbose': 0,\n",
       " 'warm_start': False}"
      ]
     },
     "execution_count": 77,
     "metadata": {},
     "output_type": "execute_result"
    }
   ],
   "source": [
    "gbr.get_params()"
   ]
  },
  {
   "cell_type": "code",
   "execution_count": 88,
   "metadata": {},
   "outputs": [
    {
     "name": "stdout",
     "output_type": "stream",
     "text": [
      "{'gradientboostingregressor__n_estimators': [100, 300, 500, 700, 900, 1100], 'gradientboostingregressor__max_depth': [5, 15, 25, 35, 45, 55], 'gradientboostingregressor__min_samples_split': [2, 4, 6], 'gradientboostingregressor__min_samples_leaf': [1, 2, 4]}\n"
     ]
    }
   ],
   "source": [
    "# gradient boosting CV\n",
    "\n",
    "param_grid_gbr = {\n",
    "    'gradientboostingregressor__n_estimators': [int(x) for x in np.linspace(start = 100, stop = 1100, num = 6)],\n",
    "    'gradientboostingregressor__max_depth': [int(x) for x in np.linspace(5, 55, num = 6)],\n",
    "    'gradientboostingregressor__min_samples_split': [2,4,6],\n",
    "    'gradientboostingregressor__min_samples_leaf' : [1,2,4]\n",
    "}\n",
    "print(param_grid_gbr)"
   ]
  },
  {
   "cell_type": "code",
   "execution_count": 100,
   "metadata": {},
   "outputs": [],
   "source": [
    "# create a pipeline for GBR\n",
    "pipe_gbr = make_pipeline(StandardScaler(), GradientBoostingRegressor(random_state=my_seed))\n",
    "\n",
    "gs_gbr1 = GridSearchCV(estimator=pipe_gbr, param_grid=param_grid_gbr, scoring = 'neg_mean_squared_error', cv=10, verbose=2, n_jobs=n_cpu)\n",
    "gs_gbr2 = GridSearchCV(estimator=pipe_gbr, param_grid=param_grid_gbr, scoring = 'neg_mean_absolute_percentage_error', cv=10, verbose=2, n_jobs=n_cpu)"
   ]
  },
  {
   "cell_type": "code",
   "execution_count": 101,
   "metadata": {},
   "outputs": [
    {
     "name": "stdout",
     "output_type": "stream",
     "text": [
      "Fitting 10 folds for each of 324 candidates, totalling 3240 fits\n"
     ]
    },
    {
     "data": {
      "text/html": [
       "<style>#sk-container-id-3 {color: black;}#sk-container-id-3 pre{padding: 0;}#sk-container-id-3 div.sk-toggleable {background-color: white;}#sk-container-id-3 label.sk-toggleable__label {cursor: pointer;display: block;width: 100%;margin-bottom: 0;padding: 0.3em;box-sizing: border-box;text-align: center;}#sk-container-id-3 label.sk-toggleable__label-arrow:before {content: \"▸\";float: left;margin-right: 0.25em;color: #696969;}#sk-container-id-3 label.sk-toggleable__label-arrow:hover:before {color: black;}#sk-container-id-3 div.sk-estimator:hover label.sk-toggleable__label-arrow:before {color: black;}#sk-container-id-3 div.sk-toggleable__content {max-height: 0;max-width: 0;overflow: hidden;text-align: left;background-color: #f0f8ff;}#sk-container-id-3 div.sk-toggleable__content pre {margin: 0.2em;color: black;border-radius: 0.25em;background-color: #f0f8ff;}#sk-container-id-3 input.sk-toggleable__control:checked~div.sk-toggleable__content {max-height: 200px;max-width: 100%;overflow: auto;}#sk-container-id-3 input.sk-toggleable__control:checked~label.sk-toggleable__label-arrow:before {content: \"▾\";}#sk-container-id-3 div.sk-estimator input.sk-toggleable__control:checked~label.sk-toggleable__label {background-color: #d4ebff;}#sk-container-id-3 div.sk-label input.sk-toggleable__control:checked~label.sk-toggleable__label {background-color: #d4ebff;}#sk-container-id-3 input.sk-hidden--visually {border: 0;clip: rect(1px 1px 1px 1px);clip: rect(1px, 1px, 1px, 1px);height: 1px;margin: -1px;overflow: hidden;padding: 0;position: absolute;width: 1px;}#sk-container-id-3 div.sk-estimator {font-family: monospace;background-color: #f0f8ff;border: 1px dotted black;border-radius: 0.25em;box-sizing: border-box;margin-bottom: 0.5em;}#sk-container-id-3 div.sk-estimator:hover {background-color: #d4ebff;}#sk-container-id-3 div.sk-parallel-item::after {content: \"\";width: 100%;border-bottom: 1px solid gray;flex-grow: 1;}#sk-container-id-3 div.sk-label:hover label.sk-toggleable__label {background-color: #d4ebff;}#sk-container-id-3 div.sk-serial::before {content: \"\";position: absolute;border-left: 1px solid gray;box-sizing: border-box;top: 0;bottom: 0;left: 50%;z-index: 0;}#sk-container-id-3 div.sk-serial {display: flex;flex-direction: column;align-items: center;background-color: white;padding-right: 0.2em;padding-left: 0.2em;position: relative;}#sk-container-id-3 div.sk-item {position: relative;z-index: 1;}#sk-container-id-3 div.sk-parallel {display: flex;align-items: stretch;justify-content: center;background-color: white;position: relative;}#sk-container-id-3 div.sk-item::before, #sk-container-id-3 div.sk-parallel-item::before {content: \"\";position: absolute;border-left: 1px solid gray;box-sizing: border-box;top: 0;bottom: 0;left: 50%;z-index: -1;}#sk-container-id-3 div.sk-parallel-item {display: flex;flex-direction: column;z-index: 1;position: relative;background-color: white;}#sk-container-id-3 div.sk-parallel-item:first-child::after {align-self: flex-end;width: 50%;}#sk-container-id-3 div.sk-parallel-item:last-child::after {align-self: flex-start;width: 50%;}#sk-container-id-3 div.sk-parallel-item:only-child::after {width: 0;}#sk-container-id-3 div.sk-dashed-wrapped {border: 1px dashed gray;margin: 0 0.4em 0.5em 0.4em;box-sizing: border-box;padding-bottom: 0.4em;background-color: white;}#sk-container-id-3 div.sk-label label {font-family: monospace;font-weight: bold;display: inline-block;line-height: 1.2em;}#sk-container-id-3 div.sk-label-container {text-align: center;}#sk-container-id-3 div.sk-container {/* jupyter's `normalize.less` sets `[hidden] { display: none; }` but bootstrap.min.css set `[hidden] { display: none !important; }` so we also need the `!important` here to be able to override the default hidden behavior on the sphinx rendered scikit-learn.org. See: https://github.com/scikit-learn/scikit-learn/issues/21755 */display: inline-block !important;position: relative;}#sk-container-id-3 div.sk-text-repr-fallback {display: none;}</style><div id=\"sk-container-id-3\" class=\"sk-top-container\"><div class=\"sk-text-repr-fallback\"><pre>GridSearchCV(cv=10,\n",
       "             estimator=Pipeline(steps=[(&#x27;standardscaler&#x27;, StandardScaler()),\n",
       "                                       (&#x27;gradientboostingregressor&#x27;,\n",
       "                                        GradientBoostingRegressor(random_state=1322878))]),\n",
       "             n_jobs=7,\n",
       "             param_grid={&#x27;gradientboostingregressor__max_depth&#x27;: [5, 15, 25, 35,\n",
       "                                                                  45, 55],\n",
       "                         &#x27;gradientboostingregressor__min_samples_leaf&#x27;: [1, 2,\n",
       "                                                                         4],\n",
       "                         &#x27;gradientboostingregressor__min_samples_split&#x27;: [2, 4,\n",
       "                                                                          6],\n",
       "                         &#x27;gradientboostingregressor__n_estimators&#x27;: [100, 300,\n",
       "                                                                     500, 700,\n",
       "                                                                     900,\n",
       "                                                                     1100]},\n",
       "             scoring=&#x27;neg_mean_absolute_percentage_error&#x27;, verbose=2)</pre><b>In a Jupyter environment, please rerun this cell to show the HTML representation or trust the notebook. <br />On GitHub, the HTML representation is unable to render, please try loading this page with nbviewer.org.</b></div><div class=\"sk-container\" hidden><div class=\"sk-item sk-dashed-wrapped\"><div class=\"sk-label-container\"><div class=\"sk-label sk-toggleable\"><input class=\"sk-toggleable__control sk-hidden--visually\" id=\"sk-estimator-id-9\" type=\"checkbox\" ><label for=\"sk-estimator-id-9\" class=\"sk-toggleable__label sk-toggleable__label-arrow\">GridSearchCV</label><div class=\"sk-toggleable__content\"><pre>GridSearchCV(cv=10,\n",
       "             estimator=Pipeline(steps=[(&#x27;standardscaler&#x27;, StandardScaler()),\n",
       "                                       (&#x27;gradientboostingregressor&#x27;,\n",
       "                                        GradientBoostingRegressor(random_state=1322878))]),\n",
       "             n_jobs=7,\n",
       "             param_grid={&#x27;gradientboostingregressor__max_depth&#x27;: [5, 15, 25, 35,\n",
       "                                                                  45, 55],\n",
       "                         &#x27;gradientboostingregressor__min_samples_leaf&#x27;: [1, 2,\n",
       "                                                                         4],\n",
       "                         &#x27;gradientboostingregressor__min_samples_split&#x27;: [2, 4,\n",
       "                                                                          6],\n",
       "                         &#x27;gradientboostingregressor__n_estimators&#x27;: [100, 300,\n",
       "                                                                     500, 700,\n",
       "                                                                     900,\n",
       "                                                                     1100]},\n",
       "             scoring=&#x27;neg_mean_absolute_percentage_error&#x27;, verbose=2)</pre></div></div></div><div class=\"sk-parallel\"><div class=\"sk-parallel-item\"><div class=\"sk-item\"><div class=\"sk-label-container\"><div class=\"sk-label sk-toggleable\"><input class=\"sk-toggleable__control sk-hidden--visually\" id=\"sk-estimator-id-10\" type=\"checkbox\" ><label for=\"sk-estimator-id-10\" class=\"sk-toggleable__label sk-toggleable__label-arrow\">estimator: Pipeline</label><div class=\"sk-toggleable__content\"><pre>Pipeline(steps=[(&#x27;standardscaler&#x27;, StandardScaler()),\n",
       "                (&#x27;gradientboostingregressor&#x27;,\n",
       "                 GradientBoostingRegressor(random_state=1322878))])</pre></div></div></div><div class=\"sk-serial\"><div class=\"sk-item\"><div class=\"sk-serial\"><div class=\"sk-item\"><div class=\"sk-estimator sk-toggleable\"><input class=\"sk-toggleable__control sk-hidden--visually\" id=\"sk-estimator-id-11\" type=\"checkbox\" ><label for=\"sk-estimator-id-11\" class=\"sk-toggleable__label sk-toggleable__label-arrow\">StandardScaler</label><div class=\"sk-toggleable__content\"><pre>StandardScaler()</pre></div></div></div><div class=\"sk-item\"><div class=\"sk-estimator sk-toggleable\"><input class=\"sk-toggleable__control sk-hidden--visually\" id=\"sk-estimator-id-12\" type=\"checkbox\" ><label for=\"sk-estimator-id-12\" class=\"sk-toggleable__label sk-toggleable__label-arrow\">GradientBoostingRegressor</label><div class=\"sk-toggleable__content\"><pre>GradientBoostingRegressor(random_state=1322878)</pre></div></div></div></div></div></div></div></div></div></div></div></div>"
      ],
      "text/plain": [
       "GridSearchCV(cv=10,\n",
       "             estimator=Pipeline(steps=[('standardscaler', StandardScaler()),\n",
       "                                       ('gradientboostingregressor',\n",
       "                                        GradientBoostingRegressor(random_state=1322878))]),\n",
       "             n_jobs=7,\n",
       "             param_grid={'gradientboostingregressor__max_depth': [5, 15, 25, 35,\n",
       "                                                                  45, 55],\n",
       "                         'gradientboostingregressor__min_samples_leaf': [1, 2,\n",
       "                                                                         4],\n",
       "                         'gradientboostingregressor__min_samples_split': [2, 4,\n",
       "                                                                          6],\n",
       "                         'gradientboostingregressor__n_estimators': [100, 300,\n",
       "                                                                     500, 700,\n",
       "                                                                     900,\n",
       "                                                                     1100]},\n",
       "             scoring='neg_mean_absolute_percentage_error', verbose=2)"
      ]
     },
     "execution_count": 101,
     "metadata": {},
     "output_type": "execute_result"
    }
   ],
   "source": [
    "# train gbr using gridsearch\n",
    "gs_gbr1.fit(X_train, y_train)\n",
    "gs_gbr2.fit(X_train, y_train)"
   ]
  },
  {
   "cell_type": "code",
   "execution_count": 92,
   "metadata": {},
   "outputs": [
    {
     "name": "stdout",
     "output_type": "stream",
     "text": [
      "{'gradientboostingregressor__max_depth': 5, 'gradientboostingregressor__min_samples_leaf': 2, 'gradientboostingregressor__min_samples_split': 2, 'gradientboostingregressor__n_estimators': 500}\n"
     ]
    },
    {
     "data": {
      "text/plain": [
       "-1.6582545397365116"
      ]
     },
     "execution_count": 92,
     "metadata": {},
     "output_type": "execute_result"
    }
   ],
   "source": [
    "print(gs_gbr1.best_params_)\n",
    "gs_gbr1.best_score_"
   ]
  },
  {
   "cell_type": "code",
   "execution_count": 102,
   "metadata": {},
   "outputs": [
    {
     "name": "stdout",
     "output_type": "stream",
     "text": [
      "{'gradientboostingregressor__max_depth': 15, 'gradientboostingregressor__min_samples_leaf': 1, 'gradientboostingregressor__min_samples_split': 6, 'gradientboostingregressor__n_estimators': 300}\n"
     ]
    },
    {
     "data": {
      "text/plain": [
       "-0.013886596858542388"
      ]
     },
     "execution_count": 102,
     "metadata": {},
     "output_type": "execute_result"
    }
   ],
   "source": [
    "print(gs_gbr2.best_params_)\n",
    "gs_gbr2.best_score_"
   ]
  },
  {
   "cell_type": "code",
   "execution_count": 104,
   "metadata": {},
   "outputs": [
    {
     "name": "stdout",
     "output_type": "stream",
     "text": [
      "1.1981512804835233\n",
      "0.01169528680065943\n"
     ]
    }
   ],
   "source": [
    "# final GBR\n",
    "gbr2 = GradientBoostingRegressor(random_state=my_seed, max_depth= 15, min_samples_leaf=1, min_samples_split=6, n_estimators=300)\n",
    "gbr2.fit(X_train_std,y_train)\n",
    "\n",
    "y_pred_gbr2 = gbr2.predict(X_test_std)\n",
    "print(mean_squared_error(y_pred_gbr2,y_test))\n",
    "print(mean_absolute_percentage_error(y_pred_gbr2,y_test))"
   ]
  },
  {
   "cell_type": "code",
   "execution_count": 26,
   "metadata": {},
   "outputs": [],
   "source": [
    "\"\"\"\n",
    "Looking at the gender gap in primary completion rate\n",
    "\"\"\"\n",
    "\n",
    "y_gap = df_tp[\"SE.PRM.CMPT.MA.ZS\"] - df_tp[\"SE.PRM.CMPT.FE.ZS\"]\n",
    "X_train, X_test, y_gap_train, y_gap_test = train_test_split(X, y_gap, test_size=0.2, random_state=my_seed)"
   ]
  },
  {
   "cell_type": "code",
   "execution_count": 27,
   "metadata": {},
   "outputs": [
    {
     "data": {
      "text/plain": [
       "0.6327726275115583"
      ]
     },
     "execution_count": 27,
     "metadata": {},
     "output_type": "execute_result"
    }
   ],
   "source": [
    "# base model - linear regression\n",
    "lr_gap = LinearRegression().fit(X_train_std, y_gap_train)\n",
    "y_gap_pred_lr = lr_gap.predict(X_test_std)\n",
    "\n",
    "mean_squared_error(y_gap_pred_lr, y_gap_test)"
   ]
  },
  {
   "cell_type": "code",
   "execution_count": 28,
   "metadata": {},
   "outputs": [
    {
     "data": {
      "text/plain": [
       "0.2500432620273657"
      ]
     },
     "execution_count": 28,
     "metadata": {},
     "output_type": "execute_result"
    }
   ],
   "source": [
    "# Ridge regression\n",
    "rr_gap = RidgeCV(alphas=[1e-3, 1e-2, 1e-1, 1],store_cv_values=True).fit(X_train_std, y_gap_train)\n",
    "y_gap_pred_rr = rr_gap.predict(X_test_std)\n",
    "\n",
    "mean_squared_error(y_gap_pred_rr,y_gap_test)"
   ]
  },
  {
   "cell_type": "code",
   "execution_count": 29,
   "metadata": {},
   "outputs": [
    {
     "data": {
      "text/plain": [
       "1.0"
      ]
     },
     "execution_count": 29,
     "metadata": {},
     "output_type": "execute_result"
    }
   ],
   "source": [
    "rr_gap.alpha_"
   ]
  },
  {
   "cell_type": "code",
   "execution_count": 30,
   "metadata": {},
   "outputs": [],
   "source": [
    "rr_gap_coef = rr_gap.coef_\n",
    "rr_gap_coef_df = pd.DataFrame(rr_gap_coef, index=feature_names, columns=['Coefficient'])"
   ]
  },
  {
   "cell_type": "code",
   "execution_count": 31,
   "metadata": {},
   "outputs": [
    {
     "data": {
      "text/html": [
       "<div>\n",
       "<style scoped>\n",
       "    .dataframe tbody tr th:only-of-type {\n",
       "        vertical-align: middle;\n",
       "    }\n",
       "\n",
       "    .dataframe tbody tr th {\n",
       "        vertical-align: top;\n",
       "    }\n",
       "\n",
       "    .dataframe thead th {\n",
       "        text-align: right;\n",
       "    }\n",
       "</style>\n",
       "<table border=\"1\" class=\"dataframe\">\n",
       "  <thead>\n",
       "    <tr style=\"text-align: right;\">\n",
       "      <th></th>\n",
       "      <th>Coefficient</th>\n",
       "    </tr>\n",
       "    <tr>\n",
       "      <th>Series Code</th>\n",
       "      <th></th>\n",
       "    </tr>\n",
       "  </thead>\n",
       "  <tbody>\n",
       "    <tr>\n",
       "      <th>SL.UEM.TOTL.FE.ZS</th>\n",
       "      <td>0.250771</td>\n",
       "    </tr>\n",
       "    <tr>\n",
       "      <th>SP.URB.GROW</th>\n",
       "      <td>0.202287</td>\n",
       "    </tr>\n",
       "    <tr>\n",
       "      <th>SE.ENR.TERT.FM.ZS</th>\n",
       "      <td>0.194432</td>\n",
       "    </tr>\n",
       "    <tr>\n",
       "      <th>SE.SEC.CMPT.LO.MA.ZS</th>\n",
       "      <td>0.187007</td>\n",
       "    </tr>\n",
       "    <tr>\n",
       "      <th>SE.SEC.CMPT.LO.ZS</th>\n",
       "      <td>0.165806</td>\n",
       "    </tr>\n",
       "    <tr>\n",
       "      <th>...</th>\n",
       "      <td>...</td>\n",
       "    </tr>\n",
       "    <tr>\n",
       "      <th>SE.SEC.UNER.LO.FE.ZS</th>\n",
       "      <td>0.004754</td>\n",
       "    </tr>\n",
       "    <tr>\n",
       "      <th>SE.ADT.1524.LT.ZS</th>\n",
       "      <td>0.003824</td>\n",
       "    </tr>\n",
       "    <tr>\n",
       "      <th>SE.ADT.LITR.ZS</th>\n",
       "      <td>0.003180</td>\n",
       "    </tr>\n",
       "    <tr>\n",
       "      <th>SE.PRM.ENRL.TC.ZS</th>\n",
       "      <td>0.000674</td>\n",
       "    </tr>\n",
       "    <tr>\n",
       "      <th>SL.IND.EMPL.ZS</th>\n",
       "      <td>0.000183</td>\n",
       "    </tr>\n",
       "  </tbody>\n",
       "</table>\n",
       "<p>83 rows × 1 columns</p>\n",
       "</div>"
      ],
      "text/plain": [
       "                      Coefficient\n",
       "Series Code                      \n",
       "SL.UEM.TOTL.FE.ZS        0.250771\n",
       "SP.URB.GROW              0.202287\n",
       "SE.ENR.TERT.FM.ZS        0.194432\n",
       "SE.SEC.CMPT.LO.MA.ZS     0.187007\n",
       "SE.SEC.CMPT.LO.ZS        0.165806\n",
       "...                           ...\n",
       "SE.SEC.UNER.LO.FE.ZS     0.004754\n",
       "SE.ADT.1524.LT.ZS        0.003824\n",
       "SE.ADT.LITR.ZS           0.003180\n",
       "SE.PRM.ENRL.TC.ZS        0.000674\n",
       "SL.IND.EMPL.ZS           0.000183\n",
       "\n",
       "[83 rows x 1 columns]"
      ]
     },
     "execution_count": 31,
     "metadata": {},
     "output_type": "execute_result"
    }
   ],
   "source": [
    "rr_gap_coef_df[\"Coefficient\"] = abs(rr_gap_coef_df[\"Coefficient\"])\n",
    "rr_gap_coef_df_sort = rr_gap_coef_df.sort_values(ascending=False, by=\"Coefficient\")\n",
    "rr_gap_coef_df_sort"
   ]
  },
  {
   "cell_type": "code",
   "execution_count": 32,
   "metadata": {},
   "outputs": [
    {
     "data": {
      "image/png": "[encoded data removed]",
      "text/plain": [
       "<Figure size 2200x450 with 1 Axes>"
      ]
     },
     "metadata": {},
     "output_type": "display_data"
    }
   ],
   "source": [
    "# Plot 15 most imp features\n",
    "rr_gap_feature_coef = rr_gap_coef_df_sort[:15][\"Coefficient\"]\n",
    "rf_gap_feature_coef_name = rr_gap_coef_df_sort[:15].index\n",
    "\n",
    "plt.figure(figsize=(22, len(rf_gap_feature_coef_name) * 0.3))  # Adjust the figure size\n",
    "plt.bar(rf_gap_feature_coef_name, rr_gap_feature_coef, align='center')\n",
    "plt.xlabel('Feature', fontsize=12)\n",
    "plt.ylabel('Feature Importance', fontsize=12)\n",
    "plt.title('Feature Coefficients by Ridge Regression (Absolute Value)', fontsize=16)\n",
    "\n",
    "# plt.yticks(fontsize=12)\n",
    "plt.xticks(fontsize=7)\n",
    "plt.show()"
   ]
  },
  {
   "cell_type": "code",
   "execution_count": 33,
   "metadata": {},
   "outputs": [
    {
     "name": "stdout",
     "output_type": "stream",
     "text": [
      "Index(['SL.UEM.TOTL.FE.ZS', 'SE.ENR.TERT.FM.ZS', 'SE.ADT.1524.LT.MA.ZS',\n",
      "       'EG.ELC.ACCS.ZS', 'SH.STA.SUIC.P5'],\n",
      "      dtype='object', name='Series Code')\n"
     ]
    }
   ],
   "source": [
    "common_indexes = feature_coef_sort[:15].index.intersection(rr_gap_coef_df_sort[:15].index)\n",
    "\n",
    "print(common_indexes)"
   ]
  },
  {
   "cell_type": "code",
   "execution_count": 62,
   "metadata": {},
   "outputs": [
    {
     "data": {
      "text/plain": [
       "40"
      ]
     },
     "execution_count": 62,
     "metadata": {},
     "output_type": "execute_result"
    }
   ],
   "source": [
    "sub_col =  []\n",
    "sub_col.append(df_tp.columns[0])\n",
    "for i in range(1,len(df_tp.columns)):\n",
    "    if df_tp.columns[i][:10] != df_tp.columns[i-1][:10]:\n",
    "        sub_col.append(df_tp.columns[i])\n",
    "\n",
    "len(sub_col)"
   ]
  },
  {
   "cell_type": "code",
   "execution_count": 63,
   "metadata": {},
   "outputs": [
    {
     "data": {
      "text/plain": [
       "['SE.SEC.ENRL.TC.ZS',\n",
       " 'SN.ITK.DEFC.ZS',\n",
       " 'SE.PRM.ENRL.TC.ZS',\n",
       " 'SL.EMP.WORK.FE.ZS',\n",
       " 'SL.IND.EMPL.ZS',\n",
       " 'SE.PRE.ENRR',\n",
       " 'SL.FAM.WORK.FE.ZS',\n",
       " 'SL.UEM.1524.FE.ZS',\n",
       " 'SH.DYN.AIDS.ZS',\n",
       " 'SH.STA.SMSS.ZS',\n",
       " 'SE.ADT.LITR.FE.ZS',\n",
       " 'SE.TER.ENRR.FE',\n",
       " 'SP.ADO.TFRT',\n",
       " 'EG.ELC.ACCS.ZS',\n",
       " 'SE.PRM.CMPT.ZS']"
      ]
     },
     "execution_count": 63,
     "metadata": {},
     "output_type": "execute_result"
    }
   ],
   "source": [
    "random.seed(my_seed)\n",
    "sub_col = random.sample(sub_col,14)\n",
    "if \"SE.PRM.CMPT.ZS\" not in sub_col:\n",
    "    sub_col.append(\"SE.PRM.CMPT.ZS\")\n",
    "\n",
    "sub_col"
   ]
  },
  {
   "cell_type": "code",
   "execution_count": 73,
   "metadata": {},
   "outputs": [
    {
     "data": {
      "image/png": "[encoded data removed]",
      "text/plain": [
       "<Figure size 1000x100 with 2 Axes>"
      ]
     },
     "metadata": {},
     "output_type": "display_data"
    }
   ],
   "source": [
    "### Data Visualisation to identiy potential problems\n",
    "corr_matrix = df_tp[sub_col].corr()\n",
    "target_corr = corr_matrix[[\"SE.PRM.CMPT.ZS\"]]\n",
    "\n",
    "# Plot the heatmap\n",
    "plt.figure(figsize=(10, 1))\n",
    "sns.heatmap(target_corr.transpose(), cmap='coolwarm', annot=True)\n",
    "plt.title('Correlation between Primary Completion Rate and Subset of Variables')\n",
    "plt.show()"
   ]
  }
 ],
 "metadata": {
  "kernelspec": {
   "display_name": "general_venv",
   "language": "python",
   "name": "python3"
  },
  "language_info": {
   "codemirror_mode": {
    "name": "ipython",
    "version": 3
   },
   "file_extension": ".py",
   "mimetype": "text/x-python",
   "name": "python",
   "nbconvert_exporter": "python",
   "pygments_lexer": "ipython3",
   "version": "3.10.10"
  }
 },
 "nbformat": 4,
 "nbformat_minor": 2
}
