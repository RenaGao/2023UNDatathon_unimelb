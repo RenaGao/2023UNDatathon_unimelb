{
  "nbformat": 4,
  "nbformat_minor": 0,
  "metadata": {
    "colab": {
      "private_outputs": true,
      "provenance": []
    },
    "kernelspec": {
      "name": "python3",
      "display_name": "Python 3"
    },
    "language_info": {
      "name": "python"
    }
  },
  "cells": [
    {
      "cell_type": "code",
      "execution_count": null,
      "metadata": {
        "id": "LV64sObBFsQ0"
      },
      "outputs": [],
      "source": [
        "import pandas as pd\n",
        "import io\n",
        "from sklearn.ensemble import RandomForestRegressor\n",
        "from sklearn.model_selection import train_test_split\n",
        "from sklearn.metrics import mean_squared_error\n",
        "from sklearn.preprocessing import StandardScaler\n",
        "from google.colab import files"
      ]
    },
    {
      "cell_type": "code",
      "source": [
        "#uploaded = files.upload()\n",
        "df = pd.read_csv('/content/arab-reference-data.csv')\n",
        "df.replace('..', pd.NA, inplace=True)"
      ],
      "metadata": {
        "id": "65U48q8QFuQv"
      },
      "execution_count": null,
      "outputs": []
    },
    {
      "cell_type": "code",
      "source": [
        "import seaborn as sns\n",
        "import matplotlib.pyplot as plt\n",
        "\n",
        "sns.histplot(df['Total valid data'])\n",
        "plt.show()"
      ],
      "metadata": {
        "id": "X9yP_c1ZFwOX"
      },
      "execution_count": null,
      "outputs": []
    },
    {
      "cell_type": "code",
      "source": [
        "# Dropping data & Cleaning\n",
        "df.dropna(inplace=True)\n",
        "df_cleaned = df.dropna(axis=1, thresh=df.shape[0] * 0.4)\n",
        "df_cleaned.to_csv('cleaned_data.csv', index=False)\n",
        "df_cleaned.to_csv('/content/arab-reference-data.csv', index=False)\n",
        "from google.colab import files\n",
        "files.download('cleaned_data.csv')"
      ],
      "metadata": {
        "id": "Lu0cpSzDG8Kb"
      },
      "execution_count": null,
      "outputs": []
    },
    {
      "cell_type": "code",
      "source": [
        "# Cleaning format\n",
        "df.replace('..', np.nan, inplace=True)\n",
        "year_columns = df.columns[df.columns.str.contains('YR')]  # This creates a list of all year columns\n",
        "df[year_columns] = df[year_columns].apply(pd.to_numeric, errors='coerce')\n",
        "df_encoded = pd.get_dummies(df, columns=['Series Name'])"
      ],
      "metadata": {
        "id": "WYSmjdgeG-Zf"
      },
      "execution_count": null,
      "outputs": []
    },
    {
      "cell_type": "code",
      "source": [
        "# Encoding the label\n",
        "from sklearn.preprocessing import LabelEncoder\n",
        "df = pd.read_csv('/content/cleaned_data.csv')\n",
        "df_encoded = pd.get_dummies(df, columns=['Series Name'], prefix='Series')\n",
        "target_column = df.columns[df.columns.str.contains('Primary completion rate, female (% of relevant age group)')]\n",
        "y = df[target_column]\n",
        "df_target = df[df['Series Name'] == 'Primary completion rate, female (% of relevant age group)']"
      ],
      "metadata": {
        "id": "lo1Lmm5cG_NW"
      },
      "execution_count": null,
      "outputs": []
    }
  ]
}